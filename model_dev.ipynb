{
 "cells": [
  {
   "cell_type": "code",
   "execution_count": null,
   "id": "0de6bb6e-0ce2-4bc9-b549-fc3b8555a3c2",
   "metadata": {},
   "outputs": [],
   "source": [
    "import osmnx as ox"
   ]
  },
  {
   "cell_type": "code",
   "execution_count": null,
   "id": "10d7c0d3-ec9b-429b-ae50-968b90f3ee81",
   "metadata": {},
   "outputs": [],
   "source": [
    "place_name = \"Oxfordshire, England\"\n",
    "G = ox.graph_from_place(place_name, network_type=\"all\")  "
   ]
  }
 ],
 "metadata": {
  "kernelspec": {
   "display_name": "Python 3 (ipykernel)",
   "language": "python",
   "name": "python3"
  },
  "language_info": {
   "codemirror_mode": {
    "name": "ipython",
    "version": 3
   },
   "file_extension": ".py",
   "mimetype": "text/x-python",
   "name": "python",
   "nbconvert_exporter": "python",
   "pygments_lexer": "ipython3",
   "version": "3.12.10"
  }
 },
 "nbformat": 4,
 "nbformat_minor": 5
}
